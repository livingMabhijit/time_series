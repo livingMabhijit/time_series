{
  "nbformat": 4,
  "nbformat_minor": 0,
  "metadata": {
    "colab": {
      "name": "msft_timeseries_lstm.ipynb",
      "provenance": [],
      "authorship_tag": "ABX9TyNBowe4lRy4xWiUIJEWbBs/",
      "include_colab_link": true
    },
    "kernelspec": {
      "name": "python3",
      "display_name": "Python 3"
    },
    "accelerator": "GPU"
  },
  "cells": [
    {
      "cell_type": "markdown",
      "metadata": {
        "id": "view-in-github",
        "colab_type": "text"
      },
      "source": [
        "<a href=\"https://colab.research.google.com/github/livingMabhijit/time_series/blob/master/msft_timeseries_lstm.ipynb\" target=\"_parent\"><img src=\"https://colab.research.google.com/assets/colab-badge.svg\" alt=\"Open In Colab\"/></a>"
      ]
    },
    {
      "cell_type": "code",
      "metadata": {
        "id": "8RZ9cWjOGKjo",
        "colab_type": "code",
        "colab": {}
      },
      "source": [
        "import yfinance as yf\n",
        "#ticker symbol for specific stock name\n",
        "tickerSymbol = 'MSFT'\n",
        "ticker_data = yf.Ticker(tickerSymbol)\n",
        "ticker_df = ticker_data.history(period='1d',start='2010-01-01',end='2020-04-01')\n",
        "df1 = ticker_df.reset_index()['Close']\n",
        "\n",
        "\n"
      ],
      "execution_count": 0,
      "outputs": []
    },
    {
      "cell_type": "code",
      "metadata": {
        "id": "cS7dUUtRGqOv",
        "colab_type": "code",
        "colab": {}
      },
      "source": [
        "import numpy as np\n",
        "from sklearn.preprocessing import MinMaxScaler\n",
        "scaler = MinMaxScaler(feature_range=(0,1))\n",
        "df1= scaler.fit_transform(np.array(df1).reshape(-1,1))"
      ],
      "execution_count": 0,
      "outputs": []
    },
    {
      "cell_type": "code",
      "metadata": {
        "id": "o9ou-apBHT4J",
        "colab_type": "code",
        "colab": {
          "base_uri": "https://localhost:8080/",
          "height": 377
        },
        "outputId": "1686e7e7-a5f4-4bbb-a433-d65210d302b6"
      },
      "source": [
        "#pip install yfinance"
      ],
      "execution_count": 4,
      "outputs": [
        {
          "output_type": "stream",
          "text": [
            "Collecting yfinance\n",
            "  Downloading https://files.pythonhosted.org/packages/c2/31/8b374a12b90def92a4e27d0fc595fc43635f395984e36a075244d98bd265/yfinance-0.1.54.tar.gz\n",
            "Requirement already satisfied: pandas>=0.24 in /usr/local/lib/python3.6/dist-packages (from yfinance) (1.0.3)\n",
            "Requirement already satisfied: numpy>=1.15 in /usr/local/lib/python3.6/dist-packages (from yfinance) (1.18.4)\n",
            "Requirement already satisfied: requests>=2.20 in /usr/local/lib/python3.6/dist-packages (from yfinance) (2.23.0)\n",
            "Requirement already satisfied: multitasking>=0.0.7 in /usr/local/lib/python3.6/dist-packages (from yfinance) (0.0.9)\n",
            "Requirement already satisfied: python-dateutil>=2.6.1 in /usr/local/lib/python3.6/dist-packages (from pandas>=0.24->yfinance) (2.8.1)\n",
            "Requirement already satisfied: pytz>=2017.2 in /usr/local/lib/python3.6/dist-packages (from pandas>=0.24->yfinance) (2018.9)\n",
            "Requirement already satisfied: certifi>=2017.4.17 in /usr/local/lib/python3.6/dist-packages (from requests>=2.20->yfinance) (2020.4.5.1)\n",
            "Requirement already satisfied: urllib3!=1.25.0,!=1.25.1,<1.26,>=1.21.1 in /usr/local/lib/python3.6/dist-packages (from requests>=2.20->yfinance) (1.24.3)\n",
            "Requirement already satisfied: idna<3,>=2.5 in /usr/local/lib/python3.6/dist-packages (from requests>=2.20->yfinance) (2.9)\n",
            "Requirement already satisfied: chardet<4,>=3.0.2 in /usr/local/lib/python3.6/dist-packages (from requests>=2.20->yfinance) (3.0.4)\n",
            "Requirement already satisfied: six>=1.5 in /usr/local/lib/python3.6/dist-packages (from python-dateutil>=2.6.1->pandas>=0.24->yfinance) (1.12.0)\n",
            "Building wheels for collected packages: yfinance\n",
            "  Building wheel for yfinance (setup.py) ... \u001b[?25l\u001b[?25hdone\n",
            "  Created wheel for yfinance: filename=yfinance-0.1.54-py2.py3-none-any.whl size=22409 sha256=1a16ff172ed7b5c5c431d5ecadcb3369753dfe2afa83c6d5fe61120a65d0867a\n",
            "  Stored in directory: /root/.cache/pip/wheels/f9/e3/5b/ec24dd2984b12d61e0abf26289746c2436a0e7844f26f2515c\n",
            "Successfully built yfinance\n",
            "Installing collected packages: yfinance\n",
            "Successfully installed yfinance-0.1.54\n"
          ],
          "name": "stdout"
        }
      ]
    },
    {
      "cell_type": "code",
      "metadata": {
        "id": "6Zh4MUDxG-vE",
        "colab_type": "code",
        "colab": {}
      },
      "source": [
        "train_size = int(len(df1)*0.70)\n",
        "test_size = len(df1)-train_size\n",
        "train_data, test_data= df1[0:train_size,:],df1[train_size:len(df1),:1]"
      ],
      "execution_count": 0,
      "outputs": []
    },
    {
      "cell_type": "code",
      "metadata": {
        "id": "IO2mMCNfHCRx",
        "colab_type": "code",
        "colab": {}
      },
      "source": [
        "def create_dataset(ds, timestep =1):\n",
        "    dataX,dataY=[],[]\n",
        "    for i in range(len(ds)-timestep-1):\n",
        "        a = ds[i:(i+timestep),0]\n",
        "        dataX.append(a)\n",
        "        dataY.append(ds[i+timestep,0])\n",
        "    return np.array(dataX),np.array(dataY)"
      ],
      "execution_count": 0,
      "outputs": []
    },
    {
      "cell_type": "code",
      "metadata": {
        "id": "aT0qcD4THMZc",
        "colab_type": "code",
        "colab": {}
      },
      "source": [
        "timestep = 100\n",
        "x_train,y_train = create_dataset(train_data,timestep)\n",
        "x_test,y_test = create_dataset(test_data,timestep)\n",
        "x_train = x_train.reshape(x_train.shape[0],x_train.shape[1],1)\n",
        "x_test = x_test.reshape(x_test.shape[0],x_test.shape[1],1)"
      ],
      "execution_count": 0,
      "outputs": []
    },
    {
      "cell_type": "code",
      "metadata": {
        "id": "Oq1-ip-YH74W",
        "colab_type": "code",
        "colab": {
          "base_uri": "https://localhost:8080/",
          "height": 34
        },
        "outputId": "b6813832-d30e-4c37-9fb6-f85ddf65dfbe"
      },
      "source": [
        "x_train.shape"
      ],
      "execution_count": 13,
      "outputs": [
        {
          "output_type": "execute_result",
          "data": {
            "text/plain": [
              "(1703, 100, 1)"
            ]
          },
          "metadata": {
            "tags": []
          },
          "execution_count": 13
        }
      ]
    },
    {
      "cell_type": "code",
      "metadata": {
        "id": "_dekACZDHOuP",
        "colab_type": "code",
        "colab": {
          "base_uri": "https://localhost:8080/",
          "height": 1000
        },
        "outputId": "00be491b-eadd-4cc0-edbc-289881d47db3"
      },
      "source": [
        "from keras.models import Sequential\n",
        "from keras.layers import Dense\n",
        "from keras.layers import LSTM\n",
        "from keras.layers import Dropout\n",
        "\n",
        "model = Sequential()\n",
        "model.add(LSTM(80,return_sequences = True,input_shape =(100,1)))\n",
        "model.add(Dropout(0.2))\n",
        "model.add(LSTM(40,return_sequences = True))\n",
        "model.add(Dropout(0.2))\n",
        "model.add(LSTM(20))\n",
        "model.add(Dropout(0.2))\n",
        "model.add(Dense(1))\n",
        "model.compile(loss = 'mean_squared_error', optimizer = 'adam', metrics=['accuracy'])\n",
        "\n",
        "model.fit(x_train,y_train,validation_data=(x_test,y_test),epochs=100,batch_size=65,verbose=1)"
      ],
      "execution_count": 14,
      "outputs": [
        {
          "output_type": "stream",
          "text": [
            "Train on 1703 samples, validate on 673 samples\n",
            "Epoch 1/100\n",
            "1703/1703 [==============================] - 14s 8ms/step - loss: 0.0020 - accuracy: 5.8720e-04 - val_loss: 0.0044 - val_accuracy: 0.0015\n",
            "Epoch 2/100\n",
            "1703/1703 [==============================] - 13s 8ms/step - loss: 3.8922e-04 - accuracy: 5.8720e-04 - val_loss: 0.0027 - val_accuracy: 0.0015\n",
            "Epoch 3/100\n",
            "1703/1703 [==============================] - 13s 8ms/step - loss: 3.2330e-04 - accuracy: 5.8720e-04 - val_loss: 0.0018 - val_accuracy: 0.0015\n",
            "Epoch 4/100\n",
            "1703/1703 [==============================] - 13s 8ms/step - loss: 2.9144e-04 - accuracy: 5.8720e-04 - val_loss: 0.0017 - val_accuracy: 0.0015\n",
            "Epoch 5/100\n",
            "1703/1703 [==============================] - 13s 8ms/step - loss: 2.5372e-04 - accuracy: 5.8720e-04 - val_loss: 0.0038 - val_accuracy: 0.0015\n",
            "Epoch 6/100\n",
            "1703/1703 [==============================] - 13s 8ms/step - loss: 2.5992e-04 - accuracy: 5.8720e-04 - val_loss: 0.0026 - val_accuracy: 0.0015\n",
            "Epoch 7/100\n",
            "1703/1703 [==============================] - 13s 8ms/step - loss: 2.5225e-04 - accuracy: 5.8720e-04 - val_loss: 0.0018 - val_accuracy: 0.0015\n",
            "Epoch 8/100\n",
            "1703/1703 [==============================] - 13s 8ms/step - loss: 2.4375e-04 - accuracy: 5.8720e-04 - val_loss: 0.0023 - val_accuracy: 0.0015\n",
            "Epoch 9/100\n",
            "1703/1703 [==============================] - 13s 8ms/step - loss: 2.0241e-04 - accuracy: 5.8720e-04 - val_loss: 0.0064 - val_accuracy: 0.0015\n",
            "Epoch 10/100\n",
            "1703/1703 [==============================] - 13s 8ms/step - loss: 2.3663e-04 - accuracy: 5.8720e-04 - val_loss: 0.0034 - val_accuracy: 0.0015\n",
            "Epoch 11/100\n",
            "1703/1703 [==============================] - 13s 8ms/step - loss: 2.2437e-04 - accuracy: 5.8720e-04 - val_loss: 0.0057 - val_accuracy: 0.0015\n",
            "Epoch 12/100\n",
            "1703/1703 [==============================] - 13s 8ms/step - loss: 2.0734e-04 - accuracy: 5.8720e-04 - val_loss: 0.0029 - val_accuracy: 0.0015\n",
            "Epoch 13/100\n",
            "1703/1703 [==============================] - 13s 8ms/step - loss: 1.9206e-04 - accuracy: 5.8720e-04 - val_loss: 0.0030 - val_accuracy: 0.0015\n",
            "Epoch 14/100\n",
            "1703/1703 [==============================] - 13s 8ms/step - loss: 1.7771e-04 - accuracy: 5.8720e-04 - val_loss: 0.0028 - val_accuracy: 0.0015\n",
            "Epoch 15/100\n",
            "1703/1703 [==============================] - 13s 8ms/step - loss: 1.7895e-04 - accuracy: 5.8720e-04 - val_loss: 0.0011 - val_accuracy: 0.0015\n",
            "Epoch 16/100\n",
            "1703/1703 [==============================] - 14s 8ms/step - loss: 1.5162e-04 - accuracy: 5.8720e-04 - val_loss: 0.0028 - val_accuracy: 0.0015\n",
            "Epoch 17/100\n",
            "1703/1703 [==============================] - 13s 8ms/step - loss: 1.6477e-04 - accuracy: 5.8720e-04 - val_loss: 0.0029 - val_accuracy: 0.0015\n",
            "Epoch 18/100\n",
            "1703/1703 [==============================] - 13s 8ms/step - loss: 1.7489e-04 - accuracy: 5.8720e-04 - val_loss: 0.0028 - val_accuracy: 0.0015\n",
            "Epoch 19/100\n",
            "1703/1703 [==============================] - 13s 8ms/step - loss: 1.5143e-04 - accuracy: 5.8720e-04 - val_loss: 0.0026 - val_accuracy: 0.0015\n",
            "Epoch 20/100\n",
            "1703/1703 [==============================] - 14s 8ms/step - loss: 1.5045e-04 - accuracy: 5.8720e-04 - val_loss: 0.0013 - val_accuracy: 0.0015\n",
            "Epoch 21/100\n",
            "1703/1703 [==============================] - 14s 8ms/step - loss: 1.4998e-04 - accuracy: 5.8720e-04 - val_loss: 0.0022 - val_accuracy: 0.0015\n",
            "Epoch 22/100\n",
            "1703/1703 [==============================] - 13s 8ms/step - loss: 1.5460e-04 - accuracy: 5.8720e-04 - val_loss: 0.0033 - val_accuracy: 0.0015\n",
            "Epoch 23/100\n",
            "1703/1703 [==============================] - 14s 8ms/step - loss: 1.4510e-04 - accuracy: 5.8720e-04 - val_loss: 0.0034 - val_accuracy: 0.0015\n",
            "Epoch 24/100\n",
            "1703/1703 [==============================] - 13s 8ms/step - loss: 1.5471e-04 - accuracy: 5.8720e-04 - val_loss: 0.0021 - val_accuracy: 0.0015\n",
            "Epoch 25/100\n",
            "1703/1703 [==============================] - 14s 8ms/step - loss: 1.4282e-04 - accuracy: 5.8720e-04 - val_loss: 0.0040 - val_accuracy: 0.0015\n",
            "Epoch 26/100\n",
            "1703/1703 [==============================] - 13s 8ms/step - loss: 1.4276e-04 - accuracy: 5.8720e-04 - val_loss: 0.0033 - val_accuracy: 0.0015\n",
            "Epoch 27/100\n",
            "1703/1703 [==============================] - 13s 8ms/step - loss: 1.3898e-04 - accuracy: 5.8720e-04 - val_loss: 0.0062 - val_accuracy: 0.0015\n",
            "Epoch 28/100\n",
            "1703/1703 [==============================] - 13s 8ms/step - loss: 1.3865e-04 - accuracy: 5.8720e-04 - val_loss: 0.0046 - val_accuracy: 0.0015\n",
            "Epoch 29/100\n",
            "1703/1703 [==============================] - 13s 8ms/step - loss: 1.4526e-04 - accuracy: 5.8720e-04 - val_loss: 0.0024 - val_accuracy: 0.0015\n",
            "Epoch 30/100\n",
            "1703/1703 [==============================] - 14s 8ms/step - loss: 1.3893e-04 - accuracy: 5.8720e-04 - val_loss: 0.0014 - val_accuracy: 0.0015\n",
            "Epoch 31/100\n",
            "1703/1703 [==============================] - 13s 8ms/step - loss: 1.4272e-04 - accuracy: 5.8720e-04 - val_loss: 0.0025 - val_accuracy: 0.0015\n",
            "Epoch 32/100\n",
            "1703/1703 [==============================] - 13s 8ms/step - loss: 1.2453e-04 - accuracy: 5.8720e-04 - val_loss: 0.0037 - val_accuracy: 0.0015\n",
            "Epoch 33/100\n",
            "1703/1703 [==============================] - 14s 8ms/step - loss: 1.2190e-04 - accuracy: 5.8720e-04 - val_loss: 0.0033 - val_accuracy: 0.0015\n",
            "Epoch 34/100\n",
            "1703/1703 [==============================] - 13s 8ms/step - loss: 1.2635e-04 - accuracy: 5.8720e-04 - val_loss: 0.0021 - val_accuracy: 0.0015\n",
            "Epoch 35/100\n",
            "1703/1703 [==============================] - 14s 8ms/step - loss: 1.2150e-04 - accuracy: 5.8720e-04 - val_loss: 0.0031 - val_accuracy: 0.0015\n",
            "Epoch 36/100\n",
            "1703/1703 [==============================] - 13s 8ms/step - loss: 1.1488e-04 - accuracy: 5.8720e-04 - val_loss: 0.0014 - val_accuracy: 0.0015\n",
            "Epoch 37/100\n",
            "1703/1703 [==============================] - 13s 8ms/step - loss: 1.2279e-04 - accuracy: 5.8720e-04 - val_loss: 0.0023 - val_accuracy: 0.0015\n",
            "Epoch 38/100\n",
            "1703/1703 [==============================] - 14s 8ms/step - loss: 1.1399e-04 - accuracy: 5.8720e-04 - val_loss: 0.0018 - val_accuracy: 0.0015\n",
            "Epoch 39/100\n",
            "1703/1703 [==============================] - 14s 8ms/step - loss: 1.1191e-04 - accuracy: 5.8720e-04 - val_loss: 0.0038 - val_accuracy: 0.0015\n",
            "Epoch 40/100\n",
            "1703/1703 [==============================] - 13s 8ms/step - loss: 1.2735e-04 - accuracy: 5.8720e-04 - val_loss: 0.0029 - val_accuracy: 0.0015\n",
            "Epoch 41/100\n",
            "1703/1703 [==============================] - 14s 8ms/step - loss: 1.3057e-04 - accuracy: 5.8720e-04 - val_loss: 0.0032 - val_accuracy: 0.0015\n",
            "Epoch 42/100\n",
            "1703/1703 [==============================] - 14s 8ms/step - loss: 1.2132e-04 - accuracy: 5.8720e-04 - val_loss: 0.0019 - val_accuracy: 0.0015\n",
            "Epoch 43/100\n",
            "1703/1703 [==============================] - 14s 8ms/step - loss: 1.2165e-04 - accuracy: 5.8720e-04 - val_loss: 0.0014 - val_accuracy: 0.0015\n",
            "Epoch 44/100\n",
            "1703/1703 [==============================] - 14s 8ms/step - loss: 1.1216e-04 - accuracy: 5.8720e-04 - val_loss: 0.0031 - val_accuracy: 0.0015\n",
            "Epoch 45/100\n",
            "1703/1703 [==============================] - 14s 8ms/step - loss: 1.2411e-04 - accuracy: 5.8720e-04 - val_loss: 0.0025 - val_accuracy: 0.0015\n",
            "Epoch 46/100\n",
            "1703/1703 [==============================] - 14s 8ms/step - loss: 1.1542e-04 - accuracy: 5.8720e-04 - val_loss: 0.0018 - val_accuracy: 0.0015\n",
            "Epoch 47/100\n",
            "1703/1703 [==============================] - 14s 8ms/step - loss: 1.1022e-04 - accuracy: 5.8720e-04 - val_loss: 0.0027 - val_accuracy: 0.0015\n",
            "Epoch 48/100\n",
            "1703/1703 [==============================] - 14s 8ms/step - loss: 1.0811e-04 - accuracy: 5.8720e-04 - val_loss: 0.0034 - val_accuracy: 0.0015\n",
            "Epoch 49/100\n",
            "1703/1703 [==============================] - 14s 8ms/step - loss: 1.2882e-04 - accuracy: 5.8720e-04 - val_loss: 0.0026 - val_accuracy: 0.0015\n",
            "Epoch 50/100\n",
            "1703/1703 [==============================] - 14s 8ms/step - loss: 1.2381e-04 - accuracy: 5.8720e-04 - val_loss: 0.0010 - val_accuracy: 0.0015\n",
            "Epoch 51/100\n",
            "1703/1703 [==============================] - 14s 8ms/step - loss: 1.2942e-04 - accuracy: 5.8720e-04 - val_loss: 0.0011 - val_accuracy: 0.0015\n",
            "Epoch 52/100\n",
            "1703/1703 [==============================] - 14s 8ms/step - loss: 1.2867e-04 - accuracy: 5.8720e-04 - val_loss: 0.0039 - val_accuracy: 0.0015\n",
            "Epoch 53/100\n",
            "1703/1703 [==============================] - 14s 8ms/step - loss: 1.2710e-04 - accuracy: 5.8720e-04 - val_loss: 0.0012 - val_accuracy: 0.0015\n",
            "Epoch 54/100\n",
            "1703/1703 [==============================] - 14s 8ms/step - loss: 1.1212e-04 - accuracy: 5.8720e-04 - val_loss: 0.0027 - val_accuracy: 0.0015\n",
            "Epoch 55/100\n",
            "1703/1703 [==============================] - 14s 8ms/step - loss: 1.0988e-04 - accuracy: 5.8720e-04 - val_loss: 0.0024 - val_accuracy: 0.0015\n",
            "Epoch 56/100\n",
            "1703/1703 [==============================] - 14s 8ms/step - loss: 1.1605e-04 - accuracy: 5.8720e-04 - val_loss: 0.0035 - val_accuracy: 0.0015\n",
            "Epoch 57/100\n",
            "1703/1703 [==============================] - 14s 8ms/step - loss: 1.1579e-04 - accuracy: 5.8720e-04 - val_loss: 0.0014 - val_accuracy: 0.0015\n",
            "Epoch 58/100\n",
            "1703/1703 [==============================] - 14s 8ms/step - loss: 1.2077e-04 - accuracy: 5.8720e-04 - val_loss: 0.0013 - val_accuracy: 0.0015\n",
            "Epoch 59/100\n",
            "1703/1703 [==============================] - 14s 8ms/step - loss: 1.1408e-04 - accuracy: 5.8720e-04 - val_loss: 0.0014 - val_accuracy: 0.0015\n",
            "Epoch 60/100\n",
            "1703/1703 [==============================] - 14s 8ms/step - loss: 1.1553e-04 - accuracy: 5.8720e-04 - val_loss: 6.5436e-04 - val_accuracy: 0.0015\n",
            "Epoch 61/100\n",
            "1703/1703 [==============================] - 14s 8ms/step - loss: 1.2242e-04 - accuracy: 5.8720e-04 - val_loss: 0.0018 - val_accuracy: 0.0015\n",
            "Epoch 62/100\n",
            "1703/1703 [==============================] - 14s 8ms/step - loss: 1.1575e-04 - accuracy: 5.8720e-04 - val_loss: 0.0026 - val_accuracy: 0.0015\n",
            "Epoch 63/100\n",
            "1703/1703 [==============================] - 13s 8ms/step - loss: 1.1264e-04 - accuracy: 5.8720e-04 - val_loss: 0.0023 - val_accuracy: 0.0015\n",
            "Epoch 64/100\n",
            "1703/1703 [==============================] - 14s 8ms/step - loss: 1.0656e-04 - accuracy: 5.8720e-04 - val_loss: 0.0036 - val_accuracy: 0.0015\n",
            "Epoch 65/100\n",
            "1703/1703 [==============================] - 14s 8ms/step - loss: 1.1542e-04 - accuracy: 5.8720e-04 - val_loss: 0.0012 - val_accuracy: 0.0015\n",
            "Epoch 66/100\n",
            "1703/1703 [==============================] - 14s 8ms/step - loss: 1.0941e-04 - accuracy: 5.8720e-04 - val_loss: 0.0014 - val_accuracy: 0.0015\n",
            "Epoch 67/100\n",
            "1703/1703 [==============================] - 14s 8ms/step - loss: 1.1767e-04 - accuracy: 5.8720e-04 - val_loss: 0.0015 - val_accuracy: 0.0015\n",
            "Epoch 68/100\n",
            "1703/1703 [==============================] - 14s 8ms/step - loss: 1.1329e-04 - accuracy: 5.8720e-04 - val_loss: 0.0026 - val_accuracy: 0.0015\n",
            "Epoch 69/100\n",
            "1703/1703 [==============================] - 14s 8ms/step - loss: 1.1144e-04 - accuracy: 5.8720e-04 - val_loss: 0.0038 - val_accuracy: 0.0015\n",
            "Epoch 70/100\n",
            "1703/1703 [==============================] - 14s 8ms/step - loss: 1.2066e-04 - accuracy: 5.8720e-04 - val_loss: 0.0043 - val_accuracy: 0.0015\n",
            "Epoch 71/100\n",
            "1703/1703 [==============================] - 14s 8ms/step - loss: 1.1783e-04 - accuracy: 5.8720e-04 - val_loss: 0.0013 - val_accuracy: 0.0015\n",
            "Epoch 72/100\n",
            "1703/1703 [==============================] - 14s 8ms/step - loss: 1.0827e-04 - accuracy: 5.8720e-04 - val_loss: 0.0027 - val_accuracy: 0.0015\n",
            "Epoch 73/100\n",
            "1703/1703 [==============================] - 14s 8ms/step - loss: 1.1732e-04 - accuracy: 5.8720e-04 - val_loss: 0.0054 - val_accuracy: 0.0015\n",
            "Epoch 74/100\n",
            "1703/1703 [==============================] - 14s 8ms/step - loss: 1.2031e-04 - accuracy: 5.8720e-04 - val_loss: 0.0034 - val_accuracy: 0.0015\n",
            "Epoch 75/100\n",
            "1703/1703 [==============================] - 13s 8ms/step - loss: 1.1895e-04 - accuracy: 5.8720e-04 - val_loss: 0.0028 - val_accuracy: 0.0015\n",
            "Epoch 76/100\n",
            "1703/1703 [==============================] - 14s 8ms/step - loss: 1.0563e-04 - accuracy: 5.8720e-04 - val_loss: 8.8005e-04 - val_accuracy: 0.0015\n",
            "Epoch 77/100\n",
            "1703/1703 [==============================] - 14s 8ms/step - loss: 1.0993e-04 - accuracy: 5.8720e-04 - val_loss: 0.0016 - val_accuracy: 0.0015\n",
            "Epoch 78/100\n",
            "1703/1703 [==============================] - 13s 8ms/step - loss: 1.0747e-04 - accuracy: 5.8720e-04 - val_loss: 0.0031 - val_accuracy: 0.0015\n",
            "Epoch 79/100\n",
            "1703/1703 [==============================] - 14s 8ms/step - loss: 1.2615e-04 - accuracy: 5.8720e-04 - val_loss: 0.0022 - val_accuracy: 0.0015\n",
            "Epoch 80/100\n",
            "1703/1703 [==============================] - 14s 8ms/step - loss: 1.0819e-04 - accuracy: 5.8720e-04 - val_loss: 0.0042 - val_accuracy: 0.0015\n",
            "Epoch 81/100\n",
            "1703/1703 [==============================] - 14s 8ms/step - loss: 1.1481e-04 - accuracy: 5.8720e-04 - val_loss: 0.0029 - val_accuracy: 0.0015\n",
            "Epoch 82/100\n",
            "1703/1703 [==============================] - 13s 8ms/step - loss: 1.1153e-04 - accuracy: 5.8720e-04 - val_loss: 0.0025 - val_accuracy: 0.0015\n",
            "Epoch 83/100\n",
            "1703/1703 [==============================] - 13s 8ms/step - loss: 1.0573e-04 - accuracy: 5.8720e-04 - val_loss: 0.0010 - val_accuracy: 0.0015\n",
            "Epoch 84/100\n",
            "1703/1703 [==============================] - 13s 8ms/step - loss: 1.0575e-04 - accuracy: 5.8720e-04 - val_loss: 0.0017 - val_accuracy: 0.0015\n",
            "Epoch 85/100\n",
            "1703/1703 [==============================] - 13s 8ms/step - loss: 1.1192e-04 - accuracy: 5.8720e-04 - val_loss: 0.0016 - val_accuracy: 0.0015\n",
            "Epoch 86/100\n",
            "1703/1703 [==============================] - 14s 8ms/step - loss: 1.1344e-04 - accuracy: 5.8720e-04 - val_loss: 0.0016 - val_accuracy: 0.0015\n",
            "Epoch 87/100\n",
            "1703/1703 [==============================] - 13s 8ms/step - loss: 1.1546e-04 - accuracy: 5.8720e-04 - val_loss: 0.0015 - val_accuracy: 0.0015\n",
            "Epoch 88/100\n",
            "1703/1703 [==============================] - 13s 8ms/step - loss: 1.3665e-04 - accuracy: 5.8720e-04 - val_loss: 0.0029 - val_accuracy: 0.0015\n",
            "Epoch 89/100\n",
            "1703/1703 [==============================] - 13s 8ms/step - loss: 1.1545e-04 - accuracy: 5.8720e-04 - val_loss: 0.0011 - val_accuracy: 0.0015\n",
            "Epoch 90/100\n",
            "1703/1703 [==============================] - 13s 8ms/step - loss: 1.0558e-04 - accuracy: 5.8720e-04 - val_loss: 0.0018 - val_accuracy: 0.0015\n",
            "Epoch 91/100\n",
            "1703/1703 [==============================] - 13s 8ms/step - loss: 1.0439e-04 - accuracy: 5.8720e-04 - val_loss: 0.0015 - val_accuracy: 0.0015\n",
            "Epoch 92/100\n",
            "1703/1703 [==============================] - 13s 8ms/step - loss: 1.0888e-04 - accuracy: 5.8720e-04 - val_loss: 0.0017 - val_accuracy: 0.0015\n",
            "Epoch 93/100\n",
            "1703/1703 [==============================] - 13s 8ms/step - loss: 1.0460e-04 - accuracy: 5.8720e-04 - val_loss: 0.0018 - val_accuracy: 0.0015\n",
            "Epoch 94/100\n",
            "1703/1703 [==============================] - 13s 8ms/step - loss: 1.0716e-04 - accuracy: 5.8720e-04 - val_loss: 8.3944e-04 - val_accuracy: 0.0015\n",
            "Epoch 95/100\n",
            "1703/1703 [==============================] - 13s 8ms/step - loss: 1.0563e-04 - accuracy: 5.8720e-04 - val_loss: 0.0010 - val_accuracy: 0.0015\n",
            "Epoch 96/100\n",
            "1703/1703 [==============================] - 13s 8ms/step - loss: 1.0532e-04 - accuracy: 5.8720e-04 - val_loss: 6.8711e-04 - val_accuracy: 0.0015\n",
            "Epoch 97/100\n",
            "1703/1703 [==============================] - 13s 8ms/step - loss: 1.1792e-04 - accuracy: 5.8720e-04 - val_loss: 6.1179e-04 - val_accuracy: 0.0015\n",
            "Epoch 98/100\n",
            "1703/1703 [==============================] - 13s 8ms/step - loss: 1.0662e-04 - accuracy: 5.8720e-04 - val_loss: 8.6117e-04 - val_accuracy: 0.0015\n",
            "Epoch 99/100\n",
            "1703/1703 [==============================] - 14s 8ms/step - loss: 9.8360e-05 - accuracy: 5.8720e-04 - val_loss: 9.0964e-04 - val_accuracy: 0.0015\n",
            "Epoch 100/100\n",
            "1703/1703 [==============================] - 13s 8ms/step - loss: 9.9535e-05 - accuracy: 5.8720e-04 - val_loss: 7.2937e-04 - val_accuracy: 0.0015\n"
          ],
          "name": "stdout"
        },
        {
          "output_type": "execute_result",
          "data": {
            "text/plain": [
              "<keras.callbacks.callbacks.History at 0x7f907c096da0>"
            ]
          },
          "metadata": {
            "tags": []
          },
          "execution_count": 14
        }
      ]
    },
    {
      "cell_type": "code",
      "metadata": {
        "id": "FgH3UMPcHi45",
        "colab_type": "code",
        "colab": {}
      },
      "source": [
        "train_predict=model.predict(x_train)\n",
        "test_predict=model.predict(x_test)"
      ],
      "execution_count": 0,
      "outputs": []
    },
    {
      "cell_type": "code",
      "metadata": {
        "id": "JYxip33SOaFg",
        "colab_type": "code",
        "colab": {}
      },
      "source": [
        "train_predict=scaler.inverse_transform(train_predict)\n",
        "test_predict=scaler.inverse_transform(test_predict)"
      ],
      "execution_count": 0,
      "outputs": []
    },
    {
      "cell_type": "code",
      "metadata": {
        "id": "v2rHZvUUOf_Y",
        "colab_type": "code",
        "colab": {
          "base_uri": "https://localhost:8080/",
          "height": 34
        },
        "outputId": "0d81b33f-4d11-4cd5-c434-27f273fbede7"
      },
      "source": [
        "import math\n",
        "from sklearn.metrics import mean_squared_error\n",
        "math.sqrt(mean_squared_error(y_train,train_predict))"
      ],
      "execution_count": 18,
      "outputs": [
        {
          "output_type": "execute_result",
          "data": {
            "text/plain": [
              "35.747322582325204"
            ]
          },
          "metadata": {
            "tags": []
          },
          "execution_count": 18
        }
      ]
    },
    {
      "cell_type": "code",
      "metadata": {
        "id": "vfsiZhcPOkjR",
        "colab_type": "code",
        "colab": {
          "base_uri": "https://localhost:8080/",
          "height": 34
        },
        "outputId": "9d205967-26f8-42e9-ab25-147c8a5c98db"
      },
      "source": [
        "math.sqrt(mean_squared_error(y_test,test_predict))"
      ],
      "execution_count": 20,
      "outputs": [
        {
          "output_type": "execute_result",
          "data": {
            "text/plain": [
              "112.10795377237037"
            ]
          },
          "metadata": {
            "tags": []
          },
          "execution_count": 20
        }
      ]
    },
    {
      "cell_type": "code",
      "metadata": {
        "id": "VN1HF_NQOqUG",
        "colab_type": "code",
        "colab": {
          "base_uri": "https://localhost:8080/",
          "height": 265
        },
        "outputId": "39dae6c1-197a-47e5-81d7-834a49c79a7e"
      },
      "source": [
        "import matplotlib.pyplot as plt\n",
        "\n",
        "look_back=100\n",
        "trainPredictPlot = np.empty_like(df1)\n",
        "trainPredictPlot[:, :] = np.nan\n",
        "trainPredictPlot[look_back:len(train_predict)+look_back, :] = train_predict\n",
        "# shift test predictions for plotting\n",
        "testPredictPlot = np.empty_like(df1)\n",
        "testPredictPlot[:, :] = np.nan\n",
        "testPredictPlot[len(train_predict)+(look_back*2)+1:len(df1)-1, :] = test_predict\n",
        "# plot baseline and predictions\n",
        "plt.plot(scaler.inverse_transform(df1))\n",
        "plt.plot(trainPredictPlot)\n",
        "plt.plot(testPredictPlot)\n",
        "plt.show()"
      ],
      "execution_count": 23,
      "outputs": [
        {
          "output_type": "display_data",
          "data": {
            "image/png": "[encoded data removed]",
            "text/plain": [
              "<Figure size 432x288 with 1 Axes>"
            ]
          },
          "metadata": {
            "tags": [],
            "needs_background": "light"
          }
        }
      ]
    },
    {
      "cell_type": "code",
      "metadata": {
        "id": "eugpCMzqOyvc",
        "colab_type": "code",
        "colab": {
          "base_uri": "https://localhost:8080/",
          "height": 34
        },
        "outputId": "65ac8849-37ee-48fe-b521-36740a832c9f"
      },
      "source": [
        "# lets see some test data\n",
        "len(test_data)"
      ],
      "execution_count": 24,
      "outputs": [
        {
          "output_type": "execute_result",
          "data": {
            "text/plain": [
              "774"
            ]
          },
          "metadata": {
            "tags": []
          },
          "execution_count": 24
        }
      ]
    },
    {
      "cell_type": "code",
      "metadata": {
        "id": "7GbVCopSPHFd",
        "colab_type": "code",
        "colab": {
          "base_uri": "https://localhost:8080/",
          "height": 34
        },
        "outputId": "4d4da5d4-262e-4b09-9c27-35d3dfdebc25"
      },
      "source": [
        "x_input=test_data[674:].reshape(1,-1)\n",
        "x_input.shape"
      ],
      "execution_count": 25,
      "outputs": [
        {
          "output_type": "execute_result",
          "data": {
            "text/plain": [
              "(1, 100)"
            ]
          },
          "metadata": {
            "tags": []
          },
          "execution_count": 25
        }
      ]
    },
    {
      "cell_type": "code",
      "metadata": {
        "id": "sCIBM1cbQEj0",
        "colab_type": "code",
        "colab": {}
      },
      "source": [
        "temp_input=list(x_input)\n",
        "temp_input=temp_input[0].tolist()"
      ],
      "execution_count": 0,
      "outputs": []
    },
    {
      "cell_type": "code",
      "metadata": {
        "id": "z-_lLqKmPR8N",
        "colab_type": "code",
        "colab": {
          "base_uri": "https://localhost:8080/",
          "height": 1000
        },
        "outputId": "cd02d67f-196e-49ba-e641-fd26b622dd8e"
      },
      "source": [
        "from numpy import array\n",
        "\n",
        "lst_output=[]\n",
        "n_steps=100\n",
        "i=0\n",
        "while(i<30):\n",
        "    \n",
        "    if(len(temp_input)>100):\n",
        "        #print(temp_input)\n",
        "        x_input=np.array(temp_input[1:])\n",
        "        print(\"{} day input {}\".format(i,x_input))\n",
        "        x_input=x_input.reshape(1,-1)\n",
        "        x_input = x_input.reshape((1, n_steps, 1))\n",
        "        #print(x_input)\n",
        "        yhat = model.predict(x_input, verbose=0)\n",
        "        print(\"{} day output {}\".format(i,yhat))\n",
        "        temp_input.extend(yhat[0].tolist())\n",
        "        temp_input=temp_input[1:]\n",
        "        #print(temp_input)\n",
        "        lst_output.extend(yhat.tolist())\n",
        "        i=i+1\n",
        "    else:\n",
        "        x_input = x_input.reshape((1, n_steps,1))\n",
        "        yhat = model.predict(x_input, verbose=0)\n",
        "        print(yhat[0])\n",
        "        temp_input.extend(yhat[0].tolist())\n",
        "        print(len(temp_input))\n",
        "        lst_output.extend(yhat.tolist())\n",
        "        i=i+1\n",
        "    \n",
        "\n",
        "print(lst_output)"
      ],
      "execution_count": 28,
      "outputs": [
        {
          "output_type": "stream",
          "text": [
            "[0.75621074]\n",
            "101\n",
            "1 day input [0.73637007 0.74634175 0.74716781 0.75283219 0.75418928 0.75861459\n",
            " 0.76976634 0.77194949 0.77224451 0.77071041 0.76988435 0.7705334\n",
            " 0.78015105 0.78481237 0.78652348 0.78103611 0.77029738 0.76888128\n",
            " 0.7720675  0.77253953 0.78321926 0.7809181  0.77956101 0.78292424\n",
            " 0.79195185 0.79950437 0.80540477 0.80044843 0.7985603  0.80640784\n",
            " 0.81643852 0.81643852 0.81626151 0.82381402 0.82552514 0.81744159\n",
            " 0.81809063 0.8352608  0.823519   0.82593816 0.81738258 0.83213359\n",
            " 0.84387538 0.83945008 0.85083786 0.8441114  0.85024782 0.86783101\n",
            " 0.87325938 0.86977814 0.86505782 0.87101723 0.86116356 0.84499646\n",
            " 0.86364173 0.87880576 0.90659665 0.89160963 0.91597829 0.94966958\n",
            " 0.94837149 0.97026198 0.97179608 1.         0.9750413  0.97663441\n",
            " 0.97073401 0.98035166 0.99138541 0.99468964 0.9778735  0.94353316\n",
            " 0.89827708 0.88163795 0.89402879 0.82346    0.84599953 0.90942884\n",
            " 0.86069153 0.89627095 0.87107623 0.84340335 0.77897097 0.83956809\n",
            " 0.79667217 0.71093934 0.82729526 0.68952089 0.75513335 0.71884588\n",
            " 0.7324168  0.70090866 0.69282511 0.76557706 0.75719849 0.81130517\n",
            " 0.7735426  0.83549681 0.82068681 0.75621074]\n",
            "1 day output [[0.7637845]]\n",
            "2 day input [0.74634175 0.74716781 0.75283219 0.75418928 0.75861459 0.76976634\n",
            " 0.77194949 0.77224451 0.77071041 0.76988435 0.7705334  0.78015105\n",
            " 0.78481237 0.78652348 0.78103611 0.77029738 0.76888128 0.7720675\n",
            " 0.77253953 0.78321926 0.7809181  0.77956101 0.78292424 0.79195185\n",
            " 0.79950437 0.80540477 0.80044843 0.7985603  0.80640784 0.81643852\n",
            " 0.81643852 0.81626151 0.82381402 0.82552514 0.81744159 0.81809063\n",
            " 0.8352608  0.823519   0.82593816 0.81738258 0.83213359 0.84387538\n",
            " 0.83945008 0.85083786 0.8441114  0.85024782 0.86783101 0.87325938\n",
            " 0.86977814 0.86505782 0.87101723 0.86116356 0.84499646 0.86364173\n",
            " 0.87880576 0.90659665 0.89160963 0.91597829 0.94966958 0.94837149\n",
            " 0.97026198 0.97179608 1.         0.9750413  0.97663441 0.97073401\n",
            " 0.98035166 0.99138541 0.99468964 0.9778735  0.94353316 0.89827708\n",
            " 0.88163795 0.89402879 0.82346    0.84599953 0.90942884 0.86069153\n",
            " 0.89627095 0.87107623 0.84340335 0.77897097 0.83956809 0.79667217\n",
            " 0.71093934 0.82729526 0.68952089 0.75513335 0.71884588 0.7324168\n",
            " 0.70090866 0.69282511 0.76557706 0.75719849 0.81130517 0.7735426\n",
            " 0.83549681 0.82068681 0.75621074 0.76378453]\n",
            "2 day output [[0.76459974]]\n",
            "3 day input [0.74716781 0.75283219 0.75418928 0.75861459 0.76976634 0.77194949\n",
            " 0.77224451 0.77071041 0.76988435 0.7705334  0.78015105 0.78481237\n",
            " 0.78652348 0.78103611 0.77029738 0.76888128 0.7720675  0.77253953\n",
            " 0.78321926 0.7809181  0.77956101 0.78292424 0.79195185 0.79950437\n",
            " 0.80540477 0.80044843 0.7985603  0.80640784 0.81643852 0.81643852\n",
            " 0.81626151 0.82381402 0.82552514 0.81744159 0.81809063 0.8352608\n",
            " 0.823519   0.82593816 0.81738258 0.83213359 0.84387538 0.83945008\n",
            " 0.85083786 0.8441114  0.85024782 0.86783101 0.87325938 0.86977814\n",
            " 0.86505782 0.87101723 0.86116356 0.84499646 0.86364173 0.87880576\n",
            " 0.90659665 0.89160963 0.91597829 0.94966958 0.94837149 0.97026198\n",
            " 0.97179608 1.         0.9750413  0.97663441 0.97073401 0.98035166\n",
            " 0.99138541 0.99468964 0.9778735  0.94353316 0.89827708 0.88163795\n",
            " 0.89402879 0.82346    0.84599953 0.90942884 0.86069153 0.89627095\n",
            " 0.87107623 0.84340335 0.77897097 0.83956809 0.79667217 0.71093934\n",
            " 0.82729526 0.68952089 0.75513335 0.71884588 0.7324168  0.70090866\n",
            " 0.69282511 0.76557706 0.75719849 0.81130517 0.7735426  0.83549681\n",
            " 0.82068681 0.75621074 0.76378453 0.76459974]\n",
            "3 day output [[0.7601337]]\n",
            "4 day input [0.75283219 0.75418928 0.75861459 0.76976634 0.77194949 0.77224451\n",
            " 0.77071041 0.76988435 0.7705334  0.78015105 0.78481237 0.78652348\n",
            " 0.78103611 0.77029738 0.76888128 0.7720675  0.77253953 0.78321926\n",
            " 0.7809181  0.77956101 0.78292424 0.79195185 0.79950437 0.80540477\n",
            " 0.80044843 0.7985603  0.80640784 0.81643852 0.81643852 0.81626151\n",
            " 0.82381402 0.82552514 0.81744159 0.81809063 0.8352608  0.823519\n",
            " 0.82593816 0.81738258 0.83213359 0.84387538 0.83945008 0.85083786\n",
            " 0.8441114  0.85024782 0.86783101 0.87325938 0.86977814 0.86505782\n",
            " 0.87101723 0.86116356 0.84499646 0.86364173 0.87880576 0.90659665\n",
            " 0.89160963 0.91597829 0.94966958 0.94837149 0.97026198 0.97179608\n",
            " 1.         0.9750413  0.97663441 0.97073401 0.98035166 0.99138541\n",
            " 0.99468964 0.9778735  0.94353316 0.89827708 0.88163795 0.89402879\n",
            " 0.82346    0.84599953 0.90942884 0.86069153 0.89627095 0.87107623\n",
            " 0.84340335 0.77897097 0.83956809 0.79667217 0.71093934 0.82729526\n",
            " 0.68952089 0.75513335 0.71884588 0.7324168  0.70090866 0.69282511\n",
            " 0.76557706 0.75719849 0.81130517 0.7735426  0.83549681 0.82068681\n",
            " 0.75621074 0.76378453 0.76459974 0.76013368]\n",
            "4 day output [[0.7525512]]\n",
            "5 day input [0.75418928 0.75861459 0.76976634 0.77194949 0.77224451 0.77071041\n",
            " 0.76988435 0.7705334  0.78015105 0.78481237 0.78652348 0.78103611\n",
            " 0.77029738 0.76888128 0.7720675  0.77253953 0.78321926 0.7809181\n",
            " 0.77956101 0.78292424 0.79195185 0.79950437 0.80540477 0.80044843\n",
            " 0.7985603  0.80640784 0.81643852 0.81643852 0.81626151 0.82381402\n",
            " 0.82552514 0.81744159 0.81809063 0.8352608  0.823519   0.82593816\n",
            " 0.81738258 0.83213359 0.84387538 0.83945008 0.85083786 0.8441114\n",
            " 0.85024782 0.86783101 0.87325938 0.86977814 0.86505782 0.87101723\n",
            " 0.86116356 0.84499646 0.86364173 0.87880576 0.90659665 0.89160963\n",
            " 0.91597829 0.94966958 0.94837149 0.97026198 0.97179608 1.\n",
            " 0.9750413  0.97663441 0.97073401 0.98035166 0.99138541 0.99468964\n",
            " 0.9778735  0.94353316 0.89827708 0.88163795 0.89402879 0.82346\n",
            " 0.84599953 0.90942884 0.86069153 0.89627095 0.87107623 0.84340335\n",
            " 0.77897097 0.83956809 0.79667217 0.71093934 0.82729526 0.68952089\n",
            " 0.75513335 0.71884588 0.7324168  0.70090866 0.69282511 0.76557706\n",
            " 0.75719849 0.81130517 0.7735426  0.83549681 0.82068681 0.75621074\n",
            " 0.76378453 0.76459974 0.76013368 0.7525512 ]\n",
            "5 day output [[0.74379265]]\n",
            "6 day input [0.75861459 0.76976634 0.77194949 0.77224451 0.77071041 0.76988435\n",
            " 0.7705334  0.78015105 0.78481237 0.78652348 0.78103611 0.77029738\n",
            " 0.76888128 0.7720675  0.77253953 0.78321926 0.7809181  0.77956101\n",
            " 0.78292424 0.79195185 0.79950437 0.80540477 0.80044843 0.7985603\n",
            " 0.80640784 0.81643852 0.81643852 0.81626151 0.82381402 0.82552514\n",
            " 0.81744159 0.81809063 0.8352608  0.823519   0.82593816 0.81738258\n",
            " 0.83213359 0.84387538 0.83945008 0.85083786 0.8441114  0.85024782\n",
            " 0.86783101 0.87325938 0.86977814 0.86505782 0.87101723 0.86116356\n",
            " 0.84499646 0.86364173 0.87880576 0.90659665 0.89160963 0.91597829\n",
            " 0.94966958 0.94837149 0.97026198 0.97179608 1.         0.9750413\n",
            " 0.97663441 0.97073401 0.98035166 0.99138541 0.99468964 0.9778735\n",
            " 0.94353316 0.89827708 0.88163795 0.89402879 0.82346    0.84599953\n",
            " 0.90942884 0.86069153 0.89627095 0.87107623 0.84340335 0.77897097\n",
            " 0.83956809 0.79667217 0.71093934 0.82729526 0.68952089 0.75513335\n",
            " 0.71884588 0.7324168  0.70090866 0.69282511 0.76557706 0.75719849\n",
            " 0.81130517 0.7735426  0.83549681 0.82068681 0.75621074 0.76378453\n",
            " 0.76459974 0.76013368 0.7525512  0.74379265]\n",
            "6 day output [[0.7351958]]\n",
            "7 day input [0.76976634 0.77194949 0.77224451 0.77071041 0.76988435 0.7705334\n",
            " 0.78015105 0.78481237 0.78652348 0.78103611 0.77029738 0.76888128\n",
            " 0.7720675  0.77253953 0.78321926 0.7809181  0.77956101 0.78292424\n",
            " 0.79195185 0.79950437 0.80540477 0.80044843 0.7985603  0.80640784\n",
            " 0.81643852 0.81643852 0.81626151 0.82381402 0.82552514 0.81744159\n",
            " 0.81809063 0.8352608  0.823519   0.82593816 0.81738258 0.83213359\n",
            " 0.84387538 0.83945008 0.85083786 0.8441114  0.85024782 0.86783101\n",
            " 0.87325938 0.86977814 0.86505782 0.87101723 0.86116356 0.84499646\n",
            " 0.86364173 0.87880576 0.90659665 0.89160963 0.91597829 0.94966958\n",
            " 0.94837149 0.97026198 0.97179608 1.         0.9750413  0.97663441\n",
            " 0.97073401 0.98035166 0.99138541 0.99468964 0.9778735  0.94353316\n",
            " 0.89827708 0.88163795 0.89402879 0.82346    0.84599953 0.90942884\n",
            " 0.86069153 0.89627095 0.87107623 0.84340335 0.77897097 0.83956809\n",
            " 0.79667217 0.71093934 0.82729526 0.68952089 0.75513335 0.71884588\n",
            " 0.7324168  0.70090866 0.69282511 0.76557706 0.75719849 0.81130517\n",
            " 0.7735426  0.83549681 0.82068681 0.75621074 0.76378453 0.76459974\n",
            " 0.76013368 0.7525512  0.74379265 0.73519582]\n",
            "7 day output [[0.7274647]]\n",
            "8 day input [0.77194949 0.77224451 0.77071041 0.76988435 0.7705334  0.78015105\n",
            " 0.78481237 0.78652348 0.78103611 0.77029738 0.76888128 0.7720675\n",
            " 0.77253953 0.78321926 0.7809181  0.77956101 0.78292424 0.79195185\n",
            " 0.79950437 0.80540477 0.80044843 0.7985603  0.80640784 0.81643852\n",
            " 0.81643852 0.81626151 0.82381402 0.82552514 0.81744159 0.81809063\n",
            " 0.8352608  0.823519   0.82593816 0.81738258 0.83213359 0.84387538\n",
            " 0.83945008 0.85083786 0.8441114  0.85024782 0.86783101 0.87325938\n",
            " 0.86977814 0.86505782 0.87101723 0.86116356 0.84499646 0.86364173\n",
            " 0.87880576 0.90659665 0.89160963 0.91597829 0.94966958 0.94837149\n",
            " 0.97026198 0.97179608 1.         0.9750413  0.97663441 0.97073401\n",
            " 0.98035166 0.99138541 0.99468964 0.9778735  0.94353316 0.89827708\n",
            " 0.88163795 0.89402879 0.82346    0.84599953 0.90942884 0.86069153\n",
            " 0.89627095 0.87107623 0.84340335 0.77897097 0.83956809 0.79667217\n",
            " 0.71093934 0.82729526 0.68952089 0.75513335 0.71884588 0.7324168\n",
            " 0.70090866 0.69282511 0.76557706 0.75719849 0.81130517 0.7735426\n",
            " 0.83549681 0.82068681 0.75621074 0.76378453 0.76459974 0.76013368\n",
            " 0.7525512  0.74379265 0.73519582 0.72746468]\n",
            "8 day output [[0.7208125]]\n",
            "9 day input [0.77224451 0.77071041 0.76988435 0.7705334  0.78015105 0.78481237\n",
            " 0.78652348 0.78103611 0.77029738 0.76888128 0.7720675  0.77253953\n",
            " 0.78321926 0.7809181  0.77956101 0.78292424 0.79195185 0.79950437\n",
            " 0.80540477 0.80044843 0.7985603  0.80640784 0.81643852 0.81643852\n",
            " 0.81626151 0.82381402 0.82552514 0.81744159 0.81809063 0.8352608\n",
            " 0.823519   0.82593816 0.81738258 0.83213359 0.84387538 0.83945008\n",
            " 0.85083786 0.8441114  0.85024782 0.86783101 0.87325938 0.86977814\n",
            " 0.86505782 0.87101723 0.86116356 0.84499646 0.86364173 0.87880576\n",
            " 0.90659665 0.89160963 0.91597829 0.94966958 0.94837149 0.97026198\n",
            " 0.97179608 1.         0.9750413  0.97663441 0.97073401 0.98035166\n",
            " 0.99138541 0.99468964 0.9778735  0.94353316 0.89827708 0.88163795\n",
            " 0.89402879 0.82346    0.84599953 0.90942884 0.86069153 0.89627095\n",
            " 0.87107623 0.84340335 0.77897097 0.83956809 0.79667217 0.71093934\n",
            " 0.82729526 0.68952089 0.75513335 0.71884588 0.7324168  0.70090866\n",
            " 0.69282511 0.76557706 0.75719849 0.81130517 0.7735426  0.83549681\n",
            " 0.82068681 0.75621074 0.76378453 0.76459974 0.76013368 0.7525512\n",
            " 0.74379265 0.73519582 0.72746468 0.7208125 ]\n",
            "9 day output [[0.7151528]]\n",
            "10 day input [0.77071041 0.76988435 0.7705334  0.78015105 0.78481237 0.78652348\n",
            " 0.78103611 0.77029738 0.76888128 0.7720675  0.77253953 0.78321926\n",
            " 0.7809181  0.77956101 0.78292424 0.79195185 0.79950437 0.80540477\n",
            " 0.80044843 0.7985603  0.80640784 0.81643852 0.81643852 0.81626151\n",
            " 0.82381402 0.82552514 0.81744159 0.81809063 0.8352608  0.823519\n",
            " 0.82593816 0.81738258 0.83213359 0.84387538 0.83945008 0.85083786\n",
            " 0.8441114  0.85024782 0.86783101 0.87325938 0.86977814 0.86505782\n",
            " 0.87101723 0.86116356 0.84499646 0.86364173 0.87880576 0.90659665\n",
            " 0.89160963 0.91597829 0.94966958 0.94837149 0.97026198 0.97179608\n",
            " 1.         0.9750413  0.97663441 0.97073401 0.98035166 0.99138541\n",
            " 0.99468964 0.9778735  0.94353316 0.89827708 0.88163795 0.89402879\n",
            " 0.82346    0.84599953 0.90942884 0.86069153 0.89627095 0.87107623\n",
            " 0.84340335 0.77897097 0.83956809 0.79667217 0.71093934 0.82729526\n",
            " 0.68952089 0.75513335 0.71884588 0.7324168  0.70090866 0.69282511\n",
            " 0.76557706 0.75719849 0.81130517 0.7735426  0.83549681 0.82068681\n",
            " 0.75621074 0.76378453 0.76459974 0.76013368 0.7525512  0.74379265\n",
            " 0.73519582 0.72746468 0.7208125  0.7151528 ]\n",
            "10 day output [[0.71026695]]\n",
            "11 day input [0.76988435 0.7705334  0.78015105 0.78481237 0.78652348 0.78103611\n",
            " 0.77029738 0.76888128 0.7720675  0.77253953 0.78321926 0.7809181\n",
            " 0.77956101 0.78292424 0.79195185 0.79950437 0.80540477 0.80044843\n",
            " 0.7985603  0.80640784 0.81643852 0.81643852 0.81626151 0.82381402\n",
            " 0.82552514 0.81744159 0.81809063 0.8352608  0.823519   0.82593816\n",
            " 0.81738258 0.83213359 0.84387538 0.83945008 0.85083786 0.8441114\n",
            " 0.85024782 0.86783101 0.87325938 0.86977814 0.86505782 0.87101723\n",
            " 0.86116356 0.84499646 0.86364173 0.87880576 0.90659665 0.89160963\n",
            " 0.91597829 0.94966958 0.94837149 0.97026198 0.97179608 1.\n",
            " 0.9750413  0.97663441 0.97073401 0.98035166 0.99138541 0.99468964\n",
            " 0.9778735  0.94353316 0.89827708 0.88163795 0.89402879 0.82346\n",
            " 0.84599953 0.90942884 0.86069153 0.89627095 0.87107623 0.84340335\n",
            " 0.77897097 0.83956809 0.79667217 0.71093934 0.82729526 0.68952089\n",
            " 0.75513335 0.71884588 0.7324168  0.70090866 0.69282511 0.76557706\n",
            " 0.75719849 0.81130517 0.7735426  0.83549681 0.82068681 0.75621074\n",
            " 0.76378453 0.76459974 0.76013368 0.7525512  0.74379265 0.73519582\n",
            " 0.72746468 0.7208125  0.7151528  0.71026695]\n",
            "11 day output [[0.7059162]]\n",
            "12 day input [0.7705334  0.78015105 0.78481237 0.78652348 0.78103611 0.77029738\n",
            " 0.76888128 0.7720675  0.77253953 0.78321926 0.7809181  0.77956101\n",
            " 0.78292424 0.79195185 0.79950437 0.80540477 0.80044843 0.7985603\n",
            " 0.80640784 0.81643852 0.81643852 0.81626151 0.82381402 0.82552514\n",
            " 0.81744159 0.81809063 0.8352608  0.823519   0.82593816 0.81738258\n",
            " 0.83213359 0.84387538 0.83945008 0.85083786 0.8441114  0.85024782\n",
            " 0.86783101 0.87325938 0.86977814 0.86505782 0.87101723 0.86116356\n",
            " 0.84499646 0.86364173 0.87880576 0.90659665 0.89160963 0.91597829\n",
            " 0.94966958 0.94837149 0.97026198 0.97179608 1.         0.9750413\n",
            " 0.97663441 0.97073401 0.98035166 0.99138541 0.99468964 0.9778735\n",
            " 0.94353316 0.89827708 0.88163795 0.89402879 0.82346    0.84599953\n",
            " 0.90942884 0.86069153 0.89627095 0.87107623 0.84340335 0.77897097\n",
            " 0.83956809 0.79667217 0.71093934 0.82729526 0.68952089 0.75513335\n",
            " 0.71884588 0.7324168  0.70090866 0.69282511 0.76557706 0.75719849\n",
            " 0.81130517 0.7735426  0.83549681 0.82068681 0.75621074 0.76378453\n",
            " 0.76459974 0.76013368 0.7525512  0.74379265 0.73519582 0.72746468\n",
            " 0.7208125  0.7151528  0.71026695 0.70591623]\n",
            "12 day output [[0.70190334]]\n",
            "13 day input [0.78015105 0.78481237 0.78652348 0.78103611 0.77029738 0.76888128\n",
            " 0.7720675  0.77253953 0.78321926 0.7809181  0.77956101 0.78292424\n",
            " 0.79195185 0.79950437 0.80540477 0.80044843 0.7985603  0.80640784\n",
            " 0.81643852 0.81643852 0.81626151 0.82381402 0.82552514 0.81744159\n",
            " 0.81809063 0.8352608  0.823519   0.82593816 0.81738258 0.83213359\n",
            " 0.84387538 0.83945008 0.85083786 0.8441114  0.85024782 0.86783101\n",
            " 0.87325938 0.86977814 0.86505782 0.87101723 0.86116356 0.84499646\n",
            " 0.86364173 0.87880576 0.90659665 0.89160963 0.91597829 0.94966958\n",
            " 0.94837149 0.97026198 0.97179608 1.         0.9750413  0.97663441\n",
            " 0.97073401 0.98035166 0.99138541 0.99468964 0.9778735  0.94353316\n",
            " 0.89827708 0.88163795 0.89402879 0.82346    0.84599953 0.90942884\n",
            " 0.86069153 0.89627095 0.87107623 0.84340335 0.77897097 0.83956809\n",
            " 0.79667217 0.71093934 0.82729526 0.68952089 0.75513335 0.71884588\n",
            " 0.7324168  0.70090866 0.69282511 0.76557706 0.75719849 0.81130517\n",
            " 0.7735426  0.83549681 0.82068681 0.75621074 0.76378453 0.76459974\n",
            " 0.76013368 0.7525512  0.74379265 0.73519582 0.72746468 0.7208125\n",
            " 0.7151528  0.71026695 0.70591623 0.70190334]\n",
            "13 day output [[0.69809127]]\n",
            "14 day input [0.78481237 0.78652348 0.78103611 0.77029738 0.76888128 0.7720675\n",
            " 0.77253953 0.78321926 0.7809181  0.77956101 0.78292424 0.79195185\n",
            " 0.79950437 0.80540477 0.80044843 0.7985603  0.80640784 0.81643852\n",
            " 0.81643852 0.81626151 0.82381402 0.82552514 0.81744159 0.81809063\n",
            " 0.8352608  0.823519   0.82593816 0.81738258 0.83213359 0.84387538\n",
            " 0.83945008 0.85083786 0.8441114  0.85024782 0.86783101 0.87325938\n",
            " 0.86977814 0.86505782 0.87101723 0.86116356 0.84499646 0.86364173\n",
            " 0.87880576 0.90659665 0.89160963 0.91597829 0.94966958 0.94837149\n",
            " 0.97026198 0.97179608 1.         0.9750413  0.97663441 0.97073401\n",
            " 0.98035166 0.99138541 0.99468964 0.9778735  0.94353316 0.89827708\n",
            " 0.88163795 0.89402879 0.82346    0.84599953 0.90942884 0.86069153\n",
            " 0.89627095 0.87107623 0.84340335 0.77897097 0.83956809 0.79667217\n",
            " 0.71093934 0.82729526 0.68952089 0.75513335 0.71884588 0.7324168\n",
            " 0.70090866 0.69282511 0.76557706 0.75719849 0.81130517 0.7735426\n",
            " 0.83549681 0.82068681 0.75621074 0.76378453 0.76459974 0.76013368\n",
            " 0.7525512  0.74379265 0.73519582 0.72746468 0.7208125  0.7151528\n",
            " 0.71026695 0.70591623 0.70190334 0.69809127]\n",
            "14 day output [[0.69439924]]\n",
            "15 day input [0.78652348 0.78103611 0.77029738 0.76888128 0.7720675  0.77253953\n",
            " 0.78321926 0.7809181  0.77956101 0.78292424 0.79195185 0.79950437\n",
            " 0.80540477 0.80044843 0.7985603  0.80640784 0.81643852 0.81643852\n",
            " 0.81626151 0.82381402 0.82552514 0.81744159 0.81809063 0.8352608\n",
            " 0.823519   0.82593816 0.81738258 0.83213359 0.84387538 0.83945008\n",
            " 0.85083786 0.8441114  0.85024782 0.86783101 0.87325938 0.86977814\n",
            " 0.86505782 0.87101723 0.86116356 0.84499646 0.86364173 0.87880576\n",
            " 0.90659665 0.89160963 0.91597829 0.94966958 0.94837149 0.97026198\n",
            " 0.97179608 1.         0.9750413  0.97663441 0.97073401 0.98035166\n",
            " 0.99138541 0.99468964 0.9778735  0.94353316 0.89827708 0.88163795\n",
            " 0.89402879 0.82346    0.84599953 0.90942884 0.86069153 0.89627095\n",
            " 0.87107623 0.84340335 0.77897097 0.83956809 0.79667217 0.71093934\n",
            " 0.82729526 0.68952089 0.75513335 0.71884588 0.7324168  0.70090866\n",
            " 0.69282511 0.76557706 0.75719849 0.81130517 0.7735426  0.83549681\n",
            " 0.82068681 0.75621074 0.76378453 0.76459974 0.76013368 0.7525512\n",
            " 0.74379265 0.73519582 0.72746468 0.7208125  0.7151528  0.71026695\n",
            " 0.70591623 0.70190334 0.69809127 0.69439924]\n",
            "15 day output [[0.69078845]]\n",
            "16 day input [0.78103611 0.77029738 0.76888128 0.7720675  0.77253953 0.78321926\n",
            " 0.7809181  0.77956101 0.78292424 0.79195185 0.79950437 0.80540477\n",
            " 0.80044843 0.7985603  0.80640784 0.81643852 0.81643852 0.81626151\n",
            " 0.82381402 0.82552514 0.81744159 0.81809063 0.8352608  0.823519\n",
            " 0.82593816 0.81738258 0.83213359 0.84387538 0.83945008 0.85083786\n",
            " 0.8441114  0.85024782 0.86783101 0.87325938 0.86977814 0.86505782\n",
            " 0.87101723 0.86116356 0.84499646 0.86364173 0.87880576 0.90659665\n",
            " 0.89160963 0.91597829 0.94966958 0.94837149 0.97026198 0.97179608\n",
            " 1.         0.9750413  0.97663441 0.97073401 0.98035166 0.99138541\n",
            " 0.99468964 0.9778735  0.94353316 0.89827708 0.88163795 0.89402879\n",
            " 0.82346    0.84599953 0.90942884 0.86069153 0.89627095 0.87107623\n",
            " 0.84340335 0.77897097 0.83956809 0.79667217 0.71093934 0.82729526\n",
            " 0.68952089 0.75513335 0.71884588 0.7324168  0.70090866 0.69282511\n",
            " 0.76557706 0.75719849 0.81130517 0.7735426  0.83549681 0.82068681\n",
            " 0.75621074 0.76378453 0.76459974 0.76013368 0.7525512  0.74379265\n",
            " 0.73519582 0.72746468 0.7208125  0.7151528  0.71026695 0.70591623\n",
            " 0.70190334 0.69809127 0.69439924 0.69078845]\n",
            "16 day output [[0.68724567]]\n",
            "17 day input [0.77029738 0.76888128 0.7720675  0.77253953 0.78321926 0.7809181\n",
            " 0.77956101 0.78292424 0.79195185 0.79950437 0.80540477 0.80044843\n",
            " 0.7985603  0.80640784 0.81643852 0.81643852 0.81626151 0.82381402\n",
            " 0.82552514 0.81744159 0.81809063 0.8352608  0.823519   0.82593816\n",
            " 0.81738258 0.83213359 0.84387538 0.83945008 0.85083786 0.8441114\n",
            " 0.85024782 0.86783101 0.87325938 0.86977814 0.86505782 0.87101723\n",
            " 0.86116356 0.84499646 0.86364173 0.87880576 0.90659665 0.89160963\n",
            " 0.91597829 0.94966958 0.94837149 0.97026198 0.97179608 1.\n",
            " 0.9750413  0.97663441 0.97073401 0.98035166 0.99138541 0.99468964\n",
            " 0.9778735  0.94353316 0.89827708 0.88163795 0.89402879 0.82346\n",
            " 0.84599953 0.90942884 0.86069153 0.89627095 0.87107623 0.84340335\n",
            " 0.77897097 0.83956809 0.79667217 0.71093934 0.82729526 0.68952089\n",
            " 0.75513335 0.71884588 0.7324168  0.70090866 0.69282511 0.76557706\n",
            " 0.75719849 0.81130517 0.7735426  0.83549681 0.82068681 0.75621074\n",
            " 0.76378453 0.76459974 0.76013368 0.7525512  0.74379265 0.73519582\n",
            " 0.72746468 0.7208125  0.7151528  0.71026695 0.70591623 0.70190334\n",
            " 0.69809127 0.69439924 0.69078845 0.68724567]\n",
            "17 day output [[0.6837707]]\n",
            "18 day input [0.76888128 0.7720675  0.77253953 0.78321926 0.7809181  0.77956101\n",
            " 0.78292424 0.79195185 0.79950437 0.80540477 0.80044843 0.7985603\n",
            " 0.80640784 0.81643852 0.81643852 0.81626151 0.82381402 0.82552514\n",
            " 0.81744159 0.81809063 0.8352608  0.823519   0.82593816 0.81738258\n",
            " 0.83213359 0.84387538 0.83945008 0.85083786 0.8441114  0.85024782\n",
            " 0.86783101 0.87325938 0.86977814 0.86505782 0.87101723 0.86116356\n",
            " 0.84499646 0.86364173 0.87880576 0.90659665 0.89160963 0.91597829\n",
            " 0.94966958 0.94837149 0.97026198 0.97179608 1.         0.9750413\n",
            " 0.97663441 0.97073401 0.98035166 0.99138541 0.99468964 0.9778735\n",
            " 0.94353316 0.89827708 0.88163795 0.89402879 0.82346    0.84599953\n",
            " 0.90942884 0.86069153 0.89627095 0.87107623 0.84340335 0.77897097\n",
            " 0.83956809 0.79667217 0.71093934 0.82729526 0.68952089 0.75513335\n",
            " 0.71884588 0.7324168  0.70090866 0.69282511 0.76557706 0.75719849\n",
            " 0.81130517 0.7735426  0.83549681 0.82068681 0.75621074 0.76378453\n",
            " 0.76459974 0.76013368 0.7525512  0.74379265 0.73519582 0.72746468\n",
            " 0.7208125  0.7151528  0.71026695 0.70591623 0.70190334 0.69809127\n",
            " 0.69439924 0.69078845 0.68724567 0.68377072]\n",
            "18 day output [[0.68036777]]\n",
            "19 day input [0.7720675  0.77253953 0.78321926 0.7809181  0.77956101 0.78292424\n",
            " 0.79195185 0.79950437 0.80540477 0.80044843 0.7985603  0.80640784\n",
            " 0.81643852 0.81643852 0.81626151 0.82381402 0.82552514 0.81744159\n",
            " 0.81809063 0.8352608  0.823519   0.82593816 0.81738258 0.83213359\n",
            " 0.84387538 0.83945008 0.85083786 0.8441114  0.85024782 0.86783101\n",
            " 0.87325938 0.86977814 0.86505782 0.87101723 0.86116356 0.84499646\n",
            " 0.86364173 0.87880576 0.90659665 0.89160963 0.91597829 0.94966958\n",
            " 0.94837149 0.97026198 0.97179608 1.         0.9750413  0.97663441\n",
            " 0.97073401 0.98035166 0.99138541 0.99468964 0.9778735  0.94353316\n",
            " 0.89827708 0.88163795 0.89402879 0.82346    0.84599953 0.90942884\n",
            " 0.86069153 0.89627095 0.87107623 0.84340335 0.77897097 0.83956809\n",
            " 0.79667217 0.71093934 0.82729526 0.68952089 0.75513335 0.71884588\n",
            " 0.7324168  0.70090866 0.69282511 0.76557706 0.75719849 0.81130517\n",
            " 0.7735426  0.83549681 0.82068681 0.75621074 0.76378453 0.76459974\n",
            " 0.76013368 0.7525512  0.74379265 0.73519582 0.72746468 0.7208125\n",
            " 0.7151528  0.71026695 0.70591623 0.70190334 0.69809127 0.69439924\n",
            " 0.69078845 0.68724567 0.68377072 0.68036777]\n",
            "19 day output [[0.67704076]]\n",
            "20 day input [0.77253953 0.78321926 0.7809181  0.77956101 0.78292424 0.79195185\n",
            " 0.79950437 0.80540477 0.80044843 0.7985603  0.80640784 0.81643852\n",
            " 0.81643852 0.81626151 0.82381402 0.82552514 0.81744159 0.81809063\n",
            " 0.8352608  0.823519   0.82593816 0.81738258 0.83213359 0.84387538\n",
            " 0.83945008 0.85083786 0.8441114  0.85024782 0.86783101 0.87325938\n",
            " 0.86977814 0.86505782 0.87101723 0.86116356 0.84499646 0.86364173\n",
            " 0.87880576 0.90659665 0.89160963 0.91597829 0.94966958 0.94837149\n",
            " 0.97026198 0.97179608 1.         0.9750413  0.97663441 0.97073401\n",
            " 0.98035166 0.99138541 0.99468964 0.9778735  0.94353316 0.89827708\n",
            " 0.88163795 0.89402879 0.82346    0.84599953 0.90942884 0.86069153\n",
            " 0.89627095 0.87107623 0.84340335 0.77897097 0.83956809 0.79667217\n",
            " 0.71093934 0.82729526 0.68952089 0.75513335 0.71884588 0.7324168\n",
            " 0.70090866 0.69282511 0.76557706 0.75719849 0.81130517 0.7735426\n",
            " 0.83549681 0.82068681 0.75621074 0.76378453 0.76459974 0.76013368\n",
            " 0.7525512  0.74379265 0.73519582 0.72746468 0.7208125  0.7151528\n",
            " 0.71026695 0.70591623 0.70190334 0.69809127 0.69439924 0.69078845\n",
            " 0.68724567 0.68377072 0.68036777 0.67704076]\n",
            "20 day output [[0.6737915]]\n",
            "21 day input [0.78321926 0.7809181  0.77956101 0.78292424 0.79195185 0.79950437\n",
            " 0.80540477 0.80044843 0.7985603  0.80640784 0.81643852 0.81643852\n",
            " 0.81626151 0.82381402 0.82552514 0.81744159 0.81809063 0.8352608\n",
            " 0.823519   0.82593816 0.81738258 0.83213359 0.84387538 0.83945008\n",
            " 0.85083786 0.8441114  0.85024782 0.86783101 0.87325938 0.86977814\n",
            " 0.86505782 0.87101723 0.86116356 0.84499646 0.86364173 0.87880576\n",
            " 0.90659665 0.89160963 0.91597829 0.94966958 0.94837149 0.97026198\n",
            " 0.97179608 1.         0.9750413  0.97663441 0.97073401 0.98035166\n",
            " 0.99138541 0.99468964 0.9778735  0.94353316 0.89827708 0.88163795\n",
            " 0.89402879 0.82346    0.84599953 0.90942884 0.86069153 0.89627095\n",
            " 0.87107623 0.84340335 0.77897097 0.83956809 0.79667217 0.71093934\n",
            " 0.82729526 0.68952089 0.75513335 0.71884588 0.7324168  0.70090866\n",
            " 0.69282511 0.76557706 0.75719849 0.81130517 0.7735426  0.83549681\n",
            " 0.82068681 0.75621074 0.76378453 0.76459974 0.76013368 0.7525512\n",
            " 0.74379265 0.73519582 0.72746468 0.7208125  0.7151528  0.71026695\n",
            " 0.70591623 0.70190334 0.69809127 0.69439924 0.69078845 0.68724567\n",
            " 0.68377072 0.68036777 0.67704076 0.67379153]\n",
            "21 day output [[0.6706202]]\n",
            "22 day input [0.7809181  0.77956101 0.78292424 0.79195185 0.79950437 0.80540477\n",
            " 0.80044843 0.7985603  0.80640784 0.81643852 0.81643852 0.81626151\n",
            " 0.82381402 0.82552514 0.81744159 0.81809063 0.8352608  0.823519\n",
            " 0.82593816 0.81738258 0.83213359 0.84387538 0.83945008 0.85083786\n",
            " 0.8441114  0.85024782 0.86783101 0.87325938 0.86977814 0.86505782\n",
            " 0.87101723 0.86116356 0.84499646 0.86364173 0.87880576 0.90659665\n",
            " 0.89160963 0.91597829 0.94966958 0.94837149 0.97026198 0.97179608\n",
            " 1.         0.9750413  0.97663441 0.97073401 0.98035166 0.99138541\n",
            " 0.99468964 0.9778735  0.94353316 0.89827708 0.88163795 0.89402879\n",
            " 0.82346    0.84599953 0.90942884 0.86069153 0.89627095 0.87107623\n",
            " 0.84340335 0.77897097 0.83956809 0.79667217 0.71093934 0.82729526\n",
            " 0.68952089 0.75513335 0.71884588 0.7324168  0.70090866 0.69282511\n",
            " 0.76557706 0.75719849 0.81130517 0.7735426  0.83549681 0.82068681\n",
            " 0.75621074 0.76378453 0.76459974 0.76013368 0.7525512  0.74379265\n",
            " 0.73519582 0.72746468 0.7208125  0.7151528  0.71026695 0.70591623\n",
            " 0.70190334 0.69809127 0.69439924 0.69078845 0.68724567 0.68377072\n",
            " 0.68036777 0.67704076 0.67379153 0.6706202 ]\n",
            "22 day output [[0.6675252]]\n",
            "23 day input [0.77956101 0.78292424 0.79195185 0.79950437 0.80540477 0.80044843\n",
            " 0.7985603  0.80640784 0.81643852 0.81643852 0.81626151 0.82381402\n",
            " 0.82552514 0.81744159 0.81809063 0.8352608  0.823519   0.82593816\n",
            " 0.81738258 0.83213359 0.84387538 0.83945008 0.85083786 0.8441114\n",
            " 0.85024782 0.86783101 0.87325938 0.86977814 0.86505782 0.87101723\n",
            " 0.86116356 0.84499646 0.86364173 0.87880576 0.90659665 0.89160963\n",
            " 0.91597829 0.94966958 0.94837149 0.97026198 0.97179608 1.\n",
            " 0.9750413  0.97663441 0.97073401 0.98035166 0.99138541 0.99468964\n",
            " 0.9778735  0.94353316 0.89827708 0.88163795 0.89402879 0.82346\n",
            " 0.84599953 0.90942884 0.86069153 0.89627095 0.87107623 0.84340335\n",
            " 0.77897097 0.83956809 0.79667217 0.71093934 0.82729526 0.68952089\n",
            " 0.75513335 0.71884588 0.7324168  0.70090866 0.69282511 0.76557706\n",
            " 0.75719849 0.81130517 0.7735426  0.83549681 0.82068681 0.75621074\n",
            " 0.76378453 0.76459974 0.76013368 0.7525512  0.74379265 0.73519582\n",
            " 0.72746468 0.7208125  0.7151528  0.71026695 0.70591623 0.70190334\n",
            " 0.69809127 0.69439924 0.69078845 0.68724567 0.68377072 0.68036777\n",
            " 0.67704076 0.67379153 0.6706202  0.66752517]\n",
            "23 day output [[0.6645042]]\n",
            "24 day input [0.78292424 0.79195185 0.79950437 0.80540477 0.80044843 0.7985603\n",
            " 0.80640784 0.81643852 0.81643852 0.81626151 0.82381402 0.82552514\n",
            " 0.81744159 0.81809063 0.8352608  0.823519   0.82593816 0.81738258\n",
            " 0.83213359 0.84387538 0.83945008 0.85083786 0.8441114  0.85024782\n",
            " 0.86783101 0.87325938 0.86977814 0.86505782 0.87101723 0.86116356\n",
            " 0.84499646 0.86364173 0.87880576 0.90659665 0.89160963 0.91597829\n",
            " 0.94966958 0.94837149 0.97026198 0.97179608 1.         0.9750413\n",
            " 0.97663441 0.97073401 0.98035166 0.99138541 0.99468964 0.9778735\n",
            " 0.94353316 0.89827708 0.88163795 0.89402879 0.82346    0.84599953\n",
            " 0.90942884 0.86069153 0.89627095 0.87107623 0.84340335 0.77897097\n",
            " 0.83956809 0.79667217 0.71093934 0.82729526 0.68952089 0.75513335\n",
            " 0.71884588 0.7324168  0.70090866 0.69282511 0.76557706 0.75719849\n",
            " 0.81130517 0.7735426  0.83549681 0.82068681 0.75621074 0.76378453\n",
            " 0.76459974 0.76013368 0.7525512  0.74379265 0.73519582 0.72746468\n",
            " 0.7208125  0.7151528  0.71026695 0.70591623 0.70190334 0.69809127\n",
            " 0.69439924 0.69078845 0.68724567 0.68377072 0.68036777 0.67704076\n",
            " 0.67379153 0.6706202  0.66752517 0.66450417]\n",
            "24 day output [[0.6615546]]\n",
            "25 day input [0.79195185 0.79950437 0.80540477 0.80044843 0.7985603  0.80640784\n",
            " 0.81643852 0.81643852 0.81626151 0.82381402 0.82552514 0.81744159\n",
            " 0.81809063 0.8352608  0.823519   0.82593816 0.81738258 0.83213359\n",
            " 0.84387538 0.83945008 0.85083786 0.8441114  0.85024782 0.86783101\n",
            " 0.87325938 0.86977814 0.86505782 0.87101723 0.86116356 0.84499646\n",
            " 0.86364173 0.87880576 0.90659665 0.89160963 0.91597829 0.94966958\n",
            " 0.94837149 0.97026198 0.97179608 1.         0.9750413  0.97663441\n",
            " 0.97073401 0.98035166 0.99138541 0.99468964 0.9778735  0.94353316\n",
            " 0.89827708 0.88163795 0.89402879 0.82346    0.84599953 0.90942884\n",
            " 0.86069153 0.89627095 0.87107623 0.84340335 0.77897097 0.83956809\n",
            " 0.79667217 0.71093934 0.82729526 0.68952089 0.75513335 0.71884588\n",
            " 0.7324168  0.70090866 0.69282511 0.76557706 0.75719849 0.81130517\n",
            " 0.7735426  0.83549681 0.82068681 0.75621074 0.76378453 0.76459974\n",
            " 0.76013368 0.7525512  0.74379265 0.73519582 0.72746468 0.7208125\n",
            " 0.7151528  0.71026695 0.70591623 0.70190334 0.69809127 0.69439924\n",
            " 0.69078845 0.68724567 0.68377072 0.68036777 0.67704076 0.67379153\n",
            " 0.6706202  0.66752517 0.66450417 0.66155457]\n",
            "25 day output [[0.65867436]]\n",
            "26 day input [0.79950437 0.80540477 0.80044843 0.7985603  0.80640784 0.81643852\n",
            " 0.81643852 0.81626151 0.82381402 0.82552514 0.81744159 0.81809063\n",
            " 0.8352608  0.823519   0.82593816 0.81738258 0.83213359 0.84387538\n",
            " 0.83945008 0.85083786 0.8441114  0.85024782 0.86783101 0.87325938\n",
            " 0.86977814 0.86505782 0.87101723 0.86116356 0.84499646 0.86364173\n",
            " 0.87880576 0.90659665 0.89160963 0.91597829 0.94966958 0.94837149\n",
            " 0.97026198 0.97179608 1.         0.9750413  0.97663441 0.97073401\n",
            " 0.98035166 0.99138541 0.99468964 0.9778735  0.94353316 0.89827708\n",
            " 0.88163795 0.89402879 0.82346    0.84599953 0.90942884 0.86069153\n",
            " 0.89627095 0.87107623 0.84340335 0.77897097 0.83956809 0.79667217\n",
            " 0.71093934 0.82729526 0.68952089 0.75513335 0.71884588 0.7324168\n",
            " 0.70090866 0.69282511 0.76557706 0.75719849 0.81130517 0.7735426\n",
            " 0.83549681 0.82068681 0.75621074 0.76378453 0.76459974 0.76013368\n",
            " 0.7525512  0.74379265 0.73519582 0.72746468 0.7208125  0.7151528\n",
            " 0.71026695 0.70591623 0.70190334 0.69809127 0.69439924 0.69078845\n",
            " 0.68724567 0.68377072 0.68036777 0.67704076 0.67379153 0.6706202\n",
            " 0.66752517 0.66450417 0.66155457 0.65867436]\n",
            "26 day output [[0.65586084]]\n",
            "27 day input [0.80540477 0.80044843 0.7985603  0.80640784 0.81643852 0.81643852\n",
            " 0.81626151 0.82381402 0.82552514 0.81744159 0.81809063 0.8352608\n",
            " 0.823519   0.82593816 0.81738258 0.83213359 0.84387538 0.83945008\n",
            " 0.85083786 0.8441114  0.85024782 0.86783101 0.87325938 0.86977814\n",
            " 0.86505782 0.87101723 0.86116356 0.84499646 0.86364173 0.87880576\n",
            " 0.90659665 0.89160963 0.91597829 0.94966958 0.94837149 0.97026198\n",
            " 0.97179608 1.         0.9750413  0.97663441 0.97073401 0.98035166\n",
            " 0.99138541 0.99468964 0.9778735  0.94353316 0.89827708 0.88163795\n",
            " 0.89402879 0.82346    0.84599953 0.90942884 0.86069153 0.89627095\n",
            " 0.87107623 0.84340335 0.77897097 0.83956809 0.79667217 0.71093934\n",
            " 0.82729526 0.68952089 0.75513335 0.71884588 0.7324168  0.70090866\n",
            " 0.69282511 0.76557706 0.75719849 0.81130517 0.7735426  0.83549681\n",
            " 0.82068681 0.75621074 0.76378453 0.76459974 0.76013368 0.7525512\n",
            " 0.74379265 0.73519582 0.72746468 0.7208125  0.7151528  0.71026695\n",
            " 0.70591623 0.70190334 0.69809127 0.69439924 0.69078845 0.68724567\n",
            " 0.68377072 0.68036777 0.67704076 0.67379153 0.6706202  0.66752517\n",
            " 0.66450417 0.66155457 0.65867436 0.65586084]\n",
            "27 day output [[0.65311253]]\n",
            "28 day input [0.80044843 0.7985603  0.80640784 0.81643852 0.81643852 0.81626151\n",
            " 0.82381402 0.82552514 0.81744159 0.81809063 0.8352608  0.823519\n",
            " 0.82593816 0.81738258 0.83213359 0.84387538 0.83945008 0.85083786\n",
            " 0.8441114  0.85024782 0.86783101 0.87325938 0.86977814 0.86505782\n",
            " 0.87101723 0.86116356 0.84499646 0.86364173 0.87880576 0.90659665\n",
            " 0.89160963 0.91597829 0.94966958 0.94837149 0.97026198 0.97179608\n",
            " 1.         0.9750413  0.97663441 0.97073401 0.98035166 0.99138541\n",
            " 0.99468964 0.9778735  0.94353316 0.89827708 0.88163795 0.89402879\n",
            " 0.82346    0.84599953 0.90942884 0.86069153 0.89627095 0.87107623\n",
            " 0.84340335 0.77897097 0.83956809 0.79667217 0.71093934 0.82729526\n",
            " 0.68952089 0.75513335 0.71884588 0.7324168  0.70090866 0.69282511\n",
            " 0.76557706 0.75719849 0.81130517 0.7735426  0.83549681 0.82068681\n",
            " 0.75621074 0.76378453 0.76459974 0.76013368 0.7525512  0.74379265\n",
            " 0.73519582 0.72746468 0.7208125  0.7151528  0.71026695 0.70591623\n",
            " 0.70190334 0.69809127 0.69439924 0.69078845 0.68724567 0.68377072\n",
            " 0.68036777 0.67704076 0.67379153 0.6706202  0.66752517 0.66450417\n",
            " 0.66155457 0.65867436 0.65586084 0.65311253]\n",
            "28 day output [[0.6504274]]\n",
            "29 day input [0.7985603  0.80640784 0.81643852 0.81643852 0.81626151 0.82381402\n",
            " 0.82552514 0.81744159 0.81809063 0.8352608  0.823519   0.82593816\n",
            " 0.81738258 0.83213359 0.84387538 0.83945008 0.85083786 0.8441114\n",
            " 0.85024782 0.86783101 0.87325938 0.86977814 0.86505782 0.87101723\n",
            " 0.86116356 0.84499646 0.86364173 0.87880576 0.90659665 0.89160963\n",
            " 0.91597829 0.94966958 0.94837149 0.97026198 0.97179608 1.\n",
            " 0.9750413  0.97663441 0.97073401 0.98035166 0.99138541 0.99468964\n",
            " 0.9778735  0.94353316 0.89827708 0.88163795 0.89402879 0.82346\n",
            " 0.84599953 0.90942884 0.86069153 0.89627095 0.87107623 0.84340335\n",
            " 0.77897097 0.83956809 0.79667217 0.71093934 0.82729526 0.68952089\n",
            " 0.75513335 0.71884588 0.7324168  0.70090866 0.69282511 0.76557706\n",
            " 0.75719849 0.81130517 0.7735426  0.83549681 0.82068681 0.75621074\n",
            " 0.76378453 0.76459974 0.76013368 0.7525512  0.74379265 0.73519582\n",
            " 0.72746468 0.7208125  0.7151528  0.71026695 0.70591623 0.70190334\n",
            " 0.69809127 0.69439924 0.69078845 0.68724567 0.68377072 0.68036777\n",
            " 0.67704076 0.67379153 0.6706202  0.66752517 0.66450417 0.66155457\n",
            " 0.65867436 0.65586084 0.65311253 0.6504274 ]\n",
            "29 day output [[0.6478038]]\n",
            "[[0.7562107443809509], [0.7637845277786255], [0.7645997405052185], [0.760133683681488], [0.7525511980056763], [0.7437926530838013], [0.7351958155632019], [0.7274646759033203], [0.7208124995231628], [0.7151528000831604], [0.7102669477462769], [0.7059162259101868], [0.7019033432006836], [0.6980912685394287], [0.6943992376327515], [0.6907884478569031], [0.6872456669807434], [0.6837707161903381], [0.6803677678108215], [0.6770407557487488], [0.6737915277481079], [0.6706202030181885], [0.6675251722335815], [0.6645041704177856], [0.6615545749664307], [0.6586743593215942], [0.6558608412742615], [0.653112530708313], [0.6504274010658264], [0.647803783416748]]\n"
          ],
          "name": "stdout"
        }
      ]
    },
    {
      "cell_type": "code",
      "metadata": {
        "id": "HnTaL3VTQJEz",
        "colab_type": "code",
        "colab": {}
      },
      "source": [
        "day_new=np.arange(1,101)\n",
        "day_pred=np.arange(101,131)"
      ],
      "execution_count": 0,
      "outputs": []
    },
    {
      "cell_type": "code",
      "metadata": {
        "id": "SDrt69IDQPSy",
        "colab_type": "code",
        "colab": {
          "base_uri": "https://localhost:8080/",
          "height": 34
        },
        "outputId": "21a38355-476c-48c5-94a6-10d1dd33ded0"
      },
      "source": [
        "len(df1)"
      ],
      "execution_count": 30,
      "outputs": [
        {
          "output_type": "execute_result",
          "data": {
            "text/plain": [
              "2578"
            ]
          },
          "metadata": {
            "tags": []
          },
          "execution_count": 30
        }
      ]
    },
    {
      "cell_type": "code",
      "metadata": {
        "id": "YmiEqjZOQRV3",
        "colab_type": "code",
        "colab": {
          "base_uri": "https://localhost:8080/",
          "height": 284
        },
        "outputId": "6cf484e4-5223-465d-bf16-32dd0b4ccb0d"
      },
      "source": [
        "plt.plot(day_new,scaler.inverse_transform(df1[2478:]))\n",
        "plt.plot(day_pred,scaler.inverse_transform(lst_output))"
      ],
      "execution_count": 31,
      "outputs": [
        {
          "output_type": "execute_result",
          "data": {
            "text/plain": [
              "[<matplotlib.lines.Line2D at 0x7f9075521c18>]"
            ]
          },
          "metadata": {
            "tags": []
          },
          "execution_count": 31
        },
        {
          "output_type": "display_data",
          "data": {
            "image/png": "[encoded data removed]",
            "text/plain": [
              "<Figure size 432x288 with 1 Axes>"
            ]
          },
          "metadata": {
            "tags": [],
            "needs_background": "light"
          }
        }
      ]
    },
    {
      "cell_type": "code",
      "metadata": {
        "id": "JWPgLjlyQW3t",
        "colab_type": "code",
        "colab": {
          "base_uri": "https://localhost:8080/",
          "height": 282
        },
        "outputId": "fe6543b5-2cbf-49af-e24b-78917f81cf1a"
      },
      "source": [
        "df2=df1.tolist()\n",
        "df2.extend(lst_output)\n",
        "plt.plot(df2[2500:])"
      ],
      "execution_count": 33,
      "outputs": [
        {
          "output_type": "execute_result",
          "data": {
            "text/plain": [
              "[<matplotlib.lines.Line2D at 0x7f9074edfb70>]"
            ]
          },
          "metadata": {
            "tags": []
          },
          "execution_count": 33
        },
        {
          "output_type": "display_data",
          "data": {
            "image/png": "[encoded data removed]",
            "text/plain": [
              "<Figure size 432x288 with 1 Axes>"
            ]
          },
          "metadata": {
            "tags": [],
            "needs_background": "light"
          }
        }
      ]
    },
    {
      "cell_type": "code",
      "metadata": {
        "id": "GZP_4cnWQoBJ",
        "colab_type": "code",
        "colab": {
          "base_uri": "https://localhost:8080/",
          "height": 282
        },
        "outputId": "49632a52-5d4d-4e3c-d70d-1e42ce9387e3"
      },
      "source": [
        "df2=scaler.inverse_transform(df2).tolist()\n",
        "plt.plot(df2)"
      ],
      "execution_count": 34,
      "outputs": [
        {
          "output_type": "execute_result",
          "data": {
            "text/plain": [
              "[<matplotlib.lines.Line2D at 0x7f9074e4c978>]"
            ]
          },
          "metadata": {
            "tags": []
          },
          "execution_count": 34
        },
        {
          "output_type": "display_data",
          "data": {
            "image/png": "[encoded data removed]",
            "text/plain": [
              "<Figure size 432x288 with 1 Axes>"
            ]
          },
          "metadata": {
            "tags": [],
            "needs_background": "light"
          }
        }
      ]
    },
    {
      "cell_type": "code",
      "metadata": {
        "id": "wHtKYwBBQwmG",
        "colab_type": "code",
        "colab": {}
      },
      "source": [
        ""
      ],
      "execution_count": 0,
      "outputs": []
    }
  ]
}